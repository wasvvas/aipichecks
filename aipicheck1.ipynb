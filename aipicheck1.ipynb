{
 "cells": [
  {
   "cell_type": "code",
   "execution_count": 6,
   "metadata": {},
   "outputs": [
    {
     "name": "stdout",
     "output_type": "stream",
     "text": [
      "False\n",
      "True\n",
      "True\n",
      "True\n",
      "False\n",
      "True\n"
     ]
    }
   ],
   "source": [
    "def isPalindrome(word):\n",
    "    s = word.lower() #makes word all lowercase\n",
    "    s.replace(\" \", \"\") #extra credit - removes spaces to check for phrases\n",
    "    return s == s[::-1] #checks if word = the word backwards\n",
    "\n",
    "print(isPalindrome(\"puppy\"))\n",
    "print(isPalindrome(\"Mom\"))\n",
    "print(isPalindrome(\"Wow wow\"))\n",
    "\n",
    "\n",
    "\n",
    "def isAnagram(word1, word2):\n",
    "    a = word1.lower() #makes everything lowercase\n",
    "    b = word2.lower()\n",
    "    a.replace(\" \", \"\") #extra credit - removes spaces\n",
    "    b.replace(\" \", \"\")\n",
    "    if len(a) != len(b): #returns false if they aren't the same length\n",
    "        return False\n",
    "    else:\n",
    "        return sorted(a) == sorted(b) #sorts both the same way and sees if they match\n",
    "    \n",
    "print(isAnagram(\"Heart\", \"Earth\"))\n",
    "print(isAnagram(\"python\", \"aipi\"))\n",
    "print(isAnagram(\"school master\", \"the classroom\"))\n"
   ]
  },
  {
   "cell_type": "code",
   "execution_count": 6,
   "metadata": {},
   "outputs": [
    {
     "name": "stdout",
     "output_type": "stream",
     "text": [
      "False\n",
      "True\n",
      "True\n"
     ]
    }
   ],
   "source": [
    "#i already knew [::-1] existed but i assume adam wants us to do it the long way so i'll do that too\n",
    "\n",
    "def Palindrome(word):\n",
    "    s = word.lower() #makes word all lowercase\n",
    "    s.replace(\" \", \"\") #extra credit - removes spaces to check for phrases\n",
    "    \n",
    "    for i in range(0, int(len(s)/2)): #goes thru the first half of word\n",
    "        return s[i] == s[len(s)-i-1] #checks if first half matches second half\n",
    "           \n",
    "print(Palindrome(\"puppy\"))\n",
    "print(Palindrome(\"Mom\"))\n",
    "print(Palindrome(\"Wow wow\"))    "
   ]
  }
 ],
 "metadata": {
  "kernelspec": {
   "display_name": "Python 3",
   "language": "python",
   "name": "python3"
  },
  "language_info": {
   "codemirror_mode": {
    "name": "ipython",
    "version": 3
   },
   "file_extension": ".py",
   "mimetype": "text/x-python",
   "name": "python",
   "nbconvert_exporter": "python",
   "pygments_lexer": "ipython3",
   "version": "3.8.5"
  }
 },
 "nbformat": 4,
 "nbformat_minor": 4
}
